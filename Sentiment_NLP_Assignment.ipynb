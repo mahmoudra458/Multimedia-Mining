{
 "cells": [
  {
   "cell_type": "code",
   "execution_count": 57,
   "id": "80e234cd",
   "metadata": {},
   "outputs": [
    {
     "name": "stdout",
     "output_type": "stream",
     "text": [
      "0    5894\n",
      "1    2026\n",
      "Name: label, dtype: int64\n"
     ]
    },
    {
     "data": {
      "image/png": "[encoded data removed]",
      "text/plain": [
       "<Figure size 432x288 with 1 Axes>"
      ]
     },
     "metadata": {
      "needs_background": "light"
     },
     "output_type": "display_data"
    }
   ],
   "source": [
    "import re\n",
    "import nltk\n",
    "from nltk.corpus import stopwords\n",
    "from nltk.stem import PorterStemmer\n",
    "from sklearn.feature_extraction.text import CountVectorizer\n",
    "import pandas as pd\n",
    "import matplotlib.pyplot as plt\n",
    "import seaborn as sns\n",
    "\n",
    "stemmer = PorterStemmer()\n",
    "data_train = pd.read_csv('train_2kmZucJ.csv')\n",
    "#Supervised machine learning algorithm\n",
    "#Counting liked data and unliked data\n",
    "\n",
    "print(data_train['label'].value_counts())\n",
    "sns.countplot(x=data_train['label'])\n",
    "plt.show()\n",
    "def pre_processing(data):\n",
    "    #pre-processing to data (Using NLTK tool)\n",
    "    for i in range(len(data)):\n",
    "        text = re.sub('http://\\S+|https://\\S+', '', data['tweet'][i])\n",
    "        text = re.sub('[^a-zA-Z]', ' ', text)\n",
    "        text = text.strip()\n",
    "        text = text.lower()\n",
    "        text = text.split()\n",
    "        text = [word for word in text if word not in stopwords.words('english')]\n",
    "        text = ' '.join(text)\n",
    "        text = stemmer.stem(text)\n",
    "        data['tweet'][i] = text \n",
    "        #corpus.append(text)\n",
    "    return data"
   ]
  },
  {
   "cell_type": "code",
   "execution_count": 58,
   "id": "d80c65bf",
   "metadata": {},
   "outputs": [
    {
     "name": "stderr",
     "output_type": "stream",
     "text": [
      "C:\\Users\\mahmo\\AppData\\Local\\Temp\\ipykernel_10616\\3856357390.py:29: SettingWithCopyWarning: \n",
      "A value is trying to be set on a copy of a slice from a DataFrame\n",
      "\n",
      "See the caveats in the documentation: https://pandas.pydata.org/pandas-docs/stable/user_guide/indexing.html#returning-a-view-versus-a-copy\n",
      "  data['tweet'][i] = text\n"
     ]
    }
   ],
   "source": [
    "corpus = pre_processing(data_train)"
   ]
  },
  {
   "cell_type": "code",
   "execution_count": 59,
   "id": "c200441d",
   "metadata": {},
   "outputs": [],
   "source": [
    "from sklearn.model_selection import train_test_split\n",
    "X_train, X_test, y_train, y_test = train_test_split(corpus['tweet'], corpus['label'], test_size=0.2, random_state=42)"
   ]
  },
  {
   "cell_type": "code",
   "execution_count": 60,
   "id": "9c8a056f",
   "metadata": {},
   "outputs": [
    {
     "data": {
      "text/plain": [
       "4252    cool car wash idea theisland bankholidaymonday...\n",
       "4428    photo th birthday sony walkman thinkgeek nobod...\n",
       "7374    ipads biggest pile fucking planet want throw f...\n",
       "1410    yearbook hmmmmm instagram instagood together f...\n",
       "7896    pissed macbook crashes apple company nothing a...\n",
       "                              ...                        \n",
       "5226    shana tova jewish newyear everyone may new yea...\n",
       "5390             sick buying new cell phone chargers appl\n",
       "860     want download free iphone app today spread sty...\n",
       "7603    photo nikosx iphone beach holiday bw iphone bl...\n",
       "7270     got iphone hehe iphone apple new finally seb los\n",
       "Name: tweet, Length: 6336, dtype: object"
      ]
     },
     "execution_count": 60,
     "metadata": {},
     "output_type": "execute_result"
    }
   ],
   "source": [
    "X_train\n"
   ]
  },
  {
   "cell_type": "code",
   "execution_count": 61,
   "id": "5e9cc4dd",
   "metadata": {},
   "outputs": [
    {
     "data": {
      "text/plain": [
       "4896    photo cause dressed today boyfriend dressedup ...\n",
       "7539    skullcandy product brutal headphone always sto...\n",
       "1677    sunset today zeeland samsung mobile samsung su...\n",
       "1964    god playstation share feature cutting clips ea...\n",
       "3025    awe da bestest boyfriend iloveyou cute cutie a...\n",
       "                              ...                        \n",
       "1419    today meee birthday cake sweet samsung bmw por...\n",
       "3939                       arualcampbell nothing rear end\n",
       "7834    using new macbookpro last days battery big tim...\n",
       "5137    robertwindon fix junk apple power cords throw ...\n",
       "4434    using zoooom zoom lens iphone dogwalks trevor ...\n",
       "Name: tweet, Length: 1584, dtype: object"
      ]
     },
     "execution_count": 61,
     "metadata": {},
     "output_type": "execute_result"
    }
   ],
   "source": [
    "X_test"
   ]
  },
  {
   "cell_type": "code",
   "execution_count": 62,
   "id": "c9872703",
   "metadata": {},
   "outputs": [],
   "source": [
    "cv = CountVectorizer()\n",
    "X_train = cv.fit_transform(X_train)\n",
    "X_test = cv.transform(X_test)"
   ]
  },
  {
   "cell_type": "code",
   "execution_count": 63,
   "id": "a204e717",
   "metadata": {},
   "outputs": [],
   "source": [
    "from sklearn.naive_bayes import MultinomialNB"
   ]
  },
  {
   "cell_type": "code",
   "execution_count": 64,
   "id": "58a11578",
   "metadata": {},
   "outputs": [],
   "source": [
    "clf = MultinomialNB()"
   ]
  },
  {
   "cell_type": "code",
   "execution_count": 65,
   "id": "e2fcfeb6",
   "metadata": {},
   "outputs": [
    {
     "data": {
      "text/plain": [
       "MultinomialNB()"
      ]
     },
     "execution_count": 65,
     "metadata": {},
     "output_type": "execute_result"
    }
   ],
   "source": [
    "clf.fit(X_train, y_train)"
   ]
  },
  {
   "cell_type": "code",
   "execution_count": 66,
   "id": "894af2ca",
   "metadata": {},
   "outputs": [
    {
     "data": {
      "text/plain": [
       "array([0, 1, 0, ..., 1, 1, 0], dtype=int64)"
      ]
     },
     "execution_count": 66,
     "metadata": {},
     "output_type": "execute_result"
    }
   ],
   "source": [
    "y_pred = clf.predict(X_test)\n",
    "y_pred"
   ]
  },
  {
   "cell_type": "code",
   "execution_count": 67,
   "id": "9a9e4f31",
   "metadata": {},
   "outputs": [
    {
     "data": {
      "text/plain": [
       "array([0, 1, 0, ..., 1, 1, 0], dtype=int64)"
      ]
     },
     "execution_count": 67,
     "metadata": {},
     "output_type": "execute_result"
    }
   ],
   "source": [
    "y_test.values"
   ]
  },
  {
   "cell_type": "code",
   "execution_count": 68,
   "id": "006e0bc2",
   "metadata": {},
   "outputs": [],
   "source": [
    "from sklearn.metrics import confusion_matrix, accuracy_score, classification_report"
   ]
  },
  {
   "cell_type": "code",
   "execution_count": 69,
   "id": "ffa2271c",
   "metadata": {},
   "outputs": [
    {
     "name": "stdout",
     "output_type": "stream",
     "text": [
      "[[1058   94]\n",
      " [  64  368]]\n"
     ]
    }
   ],
   "source": [
    "print(confusion_matrix(y_test, y_pred))"
   ]
  },
  {
   "cell_type": "code",
   "execution_count": 70,
   "id": "18b76c46",
   "metadata": {},
   "outputs": [
    {
     "name": "stdout",
     "output_type": "stream",
     "text": [
      "0.9002525252525253\n"
     ]
    }
   ],
   "source": [
    "print(accuracy_score(y_test, y_pred))"
   ]
  },
  {
   "cell_type": "code",
   "execution_count": 71,
   "id": "eec16636",
   "metadata": {},
   "outputs": [
    {
     "name": "stdout",
     "output_type": "stream",
     "text": [
      "              precision    recall  f1-score   support\n",
      "\n",
      "           0       0.94      0.92      0.93      1152\n",
      "           1       0.80      0.85      0.82       432\n",
      "\n",
      "    accuracy                           0.90      1584\n",
      "   macro avg       0.87      0.89      0.88      1584\n",
      "weighted avg       0.90      0.90      0.90      1584\n",
      "\n"
     ]
    }
   ],
   "source": [
    "print(classification_report(y_test, y_pred))"
   ]
  },
  {
   "cell_type": "code",
   "execution_count": 72,
   "id": "38e2bab5",
   "metadata": {},
   "outputs": [
    {
     "name": "stderr",
     "output_type": "stream",
     "text": [
      "C:\\Users\\mahmo\\AppData\\Local\\Temp\\ipykernel_10616\\3856357390.py:29: SettingWithCopyWarning: \n",
      "A value is trying to be set on a copy of a slice from a DataFrame\n",
      "\n",
      "See the caveats in the documentation: https://pandas.pydata.org/pandas-docs/stable/user_guide/indexing.html#returning-a-view-versus-a-copy\n",
      "  data['tweet'][i] = text\n"
     ]
    }
   ],
   "source": [
    "#testing code \n",
    "data_test = pd.read_csv('test_oJQbWVk.csv')\n",
    "corpus = pre_processing(data_test)"
   ]
  },
  {
   "cell_type": "code",
   "execution_count": 73,
   "id": "5d4b0843",
   "metadata": {},
   "outputs": [
    {
     "data": {
      "text/plain": [
       "array([1, 1, 1, ..., 1, 1, 0], dtype=int64)"
      ]
     },
     "execution_count": 73,
     "metadata": {},
     "output_type": "execute_result"
    }
   ],
   "source": [
    "X_test = cv.transform(corpus['tweet'])\n",
    "y_pred = clf.predict(X_test)\n",
    "y_pred"
   ]
  },
  {
   "cell_type": "code",
   "execution_count": 74,
   "id": "a0529bb6",
   "metadata": {},
   "outputs": [],
   "source": [
    "submitting_data = pd.DataFrame({'id': data_test['id'], 'label': y_pred})\n",
    "submitting_data.to_csv(\"resulted_file.csv\", index=False)"
   ]
  }
 ],
 "metadata": {
  "kernelspec": {
   "display_name": "Python 3 (ipykernel)",
   "language": "python",
   "name": "python3"
  },
  "language_info": {
   "codemirror_mode": {
    "name": "ipython",
    "version": 3
   },
   "file_extension": ".py",
   "mimetype": "text/x-python",
   "name": "python",
   "nbconvert_exporter": "python",
   "pygments_lexer": "ipython3",
   "version": "3.9.12"
  }
 },
 "nbformat": 4,
 "nbformat_minor": 5
}
